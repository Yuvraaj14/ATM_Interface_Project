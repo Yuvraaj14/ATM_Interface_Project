{
  "nbformat": 4,
  "nbformat_minor": 0,
  "metadata": {
    "colab": {
      "provenance": []
    },
    "kernelspec": {
      "name": "python3",
      "display_name": "Python 3"
    },
    "language_info": {
      "name": "python"
    }
  },
  "cells": [
    {
      "cell_type": "markdown",
      "source": [
        "Google Colab Link - https://colab.research.google.com/drive/1aoXZfu7JWbd38ie_cITHEqrT_zk8VAvQ#scrollTo=Ina3hNlUBwoW"
      ],
      "metadata": {
        "id": "Ina3hNlUBwoW"
      }
    },
    {
      "cell_type": "markdown",
      "source": [
        "ATM Interface Project"
      ],
      "metadata": {
        "id": "ogtLsUqlB0XP"
      }
    },
    {
      "cell_type": "code",
      "execution_count": 1,
      "metadata": {
        "id": "CWjMyGPUBc69"
      },
      "outputs": [],
      "source": [
        "class Bank_Account:\n",
        "    def __init__(self,name, dob, account_number,bank_name, branch_name,ifsc_code, balance=0):\n",
        "        self.name=name\n",
        "        self.dob=dob\n",
        "        self.account_number = account_number\n",
        "        self.bank_name=bank_name\n",
        "        self.branch_name=branch_name\n",
        "        self.ifsc_code=ifsc_code\n",
        "        self.balance = balance\n",
        "        self.transaction_history = []\n",
        "    def Account_Detail(self):\n",
        "        print()\n",
        "        print(\"ACCOUNT DETAILS\".center(64,\"=\"))\n",
        "        print()\n",
        "        print(f\"Account Holder Name : {self.name.title()}\")\n",
        "        print(f\"Account Number : {self.account_number}\")\n",
        "        print(f\"Bank Name : {self.bank_name.title()}\")\n",
        "        print(f\"Branch Name : {self.branch_name.title()}\")\n",
        "        print(f\"IFSC Code : {self.ifsc_code.upper()}\")\n",
        "        print(f\"Available Balance : ₹{self.balance}\\n\")\n",
        "    def Deposit(self, amount):\n",
        "        if amount > 0:\n",
        "            self.balance += amount\n",
        "            self.transaction_history.append(f\"Deposited ₹{format(amount,'.2f')} to your Account\")\n",
        "            return True\n",
        "        else:\n",
        "            return False\n",
        "    def Withdraw(self, amount):\n",
        "        if amount > 0 and amount <= self.balance:\n",
        "            self.balance -= amount\n",
        "            self.transaction_history.append(f\"Withdrawn ₹{format(amount,'.2f')} from your Account\")\n",
        "            return True\n",
        "        else:\n",
        "            return False\n",
        "    def Transfer(self, amount, recipient_account_number):\n",
        "        if amount>0 and amount<=self.balance:\n",
        "                self.transaction_history.append(f\"Transferred ₹{format(amount,'.2f')} to Account Number {recipient_account_number} from Your Account\")\n",
        "                self.balance-=amount\n",
        "                return True\n",
        "        else:\n",
        "            return False\n",
        "    def get_balance(self):\n",
        "        return self.balance\n",
        "    def get_transaction_history(self):\n",
        "        return self.transaction_history"
      ]
    },
    {
      "cell_type": "code",
      "source": [
        "def main():\n",
        "    print(\"YOUR DETAILS\".center(64,\"=\"))\n",
        "    print()\n",
        "    name = input(\"Enter Your Name: \")\n",
        "    dob=input(\"Enter Your DOB (DD/MM/YY) : \")\n",
        "    account_number = input(\"Enter Your Account Number: \")\n",
        "    bank_name=input(\"Enter Your Bank Name : \")\n",
        "    branch_name=input(\"Enter Your Branch Name : \")\n",
        "    ifsc_code=input(\"Enter Your IFSC Code : \")\n",
        "    print()\n",
        "    obj = Bank_Account(name,dob,account_number,bank_name,branch_name,ifsc_code)\n",
        "    def info():\n",
        "        print(\"LOGIN WITH YOUR USER ID AND PIN\".center(64,\"=\"))\n",
        "        print()\n",
        "        user_id=input(\"Enter Your User ID [First 4 Letters of Your Name + Your Year of Birth] : \")\n",
        "        pin=input(\"Enter Your pin (Your DOB in the Format [DDMM]) : \")\n",
        "        a=name[0:4]\n",
        "        b=a.lower()\n",
        "        c=dob.split(\"/\")\n",
        "        d=b+c[2]\n",
        "        e=c[0]+c[1]\n",
        "        if user_id.lower()==d and pin==e:\n",
        "            print()\n",
        "            print(\"Verification Successfull !\")\n",
        "            print()\n",
        "            print(\"Welcome To Our ATM\")\n",
        "            while True:\n",
        "                print()\n",
        "                print(\"ATM MENU\".center(64,\"=\"))\n",
        "                print()\n",
        "                print(\"1. Account Details\")\n",
        "                print(\"2. Deposit\")\n",
        "                print(\"3. Withdraw\")\n",
        "                print(\"4. Transfer\")\n",
        "                print(\"5. Check Balance\")\n",
        "                print(\"6. Transaction History\")\n",
        "                print(\"7. Quit\")\n",
        "                choice = input(\"\\nEnter Your Choice : \")\n",
        "                print()\n",
        "                if choice == \"1\":\n",
        "                    obj.Account_Detail()\n",
        "                elif choice == \"2\":\n",
        "                    print(\"DEPOSIT\".center(64,\"=\"))\n",
        "                    print()\n",
        "                    amount = float(input(\"Enter the Amount to Deposit : ₹\"))\n",
        "                    if obj.Deposit(amount):\n",
        "                        print()\n",
        "                        print(f\"₹{format(amount,'.2f')} deposited successfully to your account.\")\n",
        "                    else:\n",
        "                        print()\n",
        "                        print(\"Invalid Amount. Deposit Failed.\")\n",
        "                elif choice == \"3\":\n",
        "                    print(\"WITHDRAW\".center(64,\"=\"))\n",
        "                    print()\n",
        "                    amount = float(input(\"Enter the Amount to Withdraw : ₹\"))\n",
        "                    if obj.Withdraw(amount):\n",
        "                        print()\n",
        "                        print(f\"₹{format(amount,'.2f')} withdrawn successfully from your account.\")\n",
        "                    else:\n",
        "                        print()\n",
        "                        print(\"Insufficient Funds or Invalid Amount. Withdrawal Failed.\")\n",
        "                elif choice == \"4\":\n",
        "                    print(\"MONEY TRANSFER\".center(64,\"=\"))\n",
        "                    print()\n",
        "                    recipient_name=input(\"Enter Recipient's Name : \")\n",
        "                    recipient_account_number= input(\"Enter Recipient's Account Number : \")\n",
        "                    amount = float(input(\"Enter the Amount to Transfer : ₹\"))\n",
        "                    if recipient_account_number:\n",
        "                        if obj.Transfer(amount, recipient_account_number):\n",
        "                            print()\n",
        "                            print(f\"₹{format(amount,'.2f')} is transferred successfully to {recipient_name.title()} whose Account Number : {recipient_account_number}.\")\n",
        "                        else:\n",
        "                            print()\n",
        "                            print(\"Transfer Failed.\")\n",
        "                    else:\n",
        "                        print(\"Recipient Account Not Found.\")\n",
        "                elif choice == \"5\":\n",
        "                    print(\"BALANCE\".center(64,\"=\"))\n",
        "                    print()\n",
        "                    print(f\"Your Bank Balance : ₹{obj.get_balance()}\")\n",
        "                elif choice == \"6\":\n",
        "                    print(\"TRANSACTION HISTORY\".center(64,\"=\"))\n",
        "                    print()\n",
        "                    for transaction in obj.get_transaction_history():\n",
        "                        print(transaction)\n",
        "                elif choice == \"7\":\n",
        "                    print(\"THANK YOU\".center(64,\"=\"))\n",
        "                    print()\n",
        "                    print(\"Thank you for using the ATM. Goodbye!\")\n",
        "                    print()\n",
        "                    print(\"VISIT US AGAIN\".center(64,\"=\"))\n",
        "                    break\n",
        "                else:\n",
        "                    print(\"Invalid Choice. Please Choose a Valid Option.\")\n",
        "        else:\n",
        "                print()\n",
        "                print(\"Invalid User ID or Pin. Please Try Again !!!\")\n",
        "                print()\n",
        "                info()\n",
        "    info()"
      ],
      "metadata": {
        "id": "jh5lw-sDCSZ3"
      },
      "execution_count": 2,
      "outputs": []
    },
    {
      "cell_type": "code",
      "source": [
        "if __name__==\"__main__\":\n",
        "    main()"
      ],
      "metadata": {
        "colab": {
          "base_uri": "https://localhost:8080/"
        },
        "id": "R5hXdL2gCbpe",
        "outputId": "e94c3fd7-13b7-4e5f-8dd0-2f94a904da55"
      },
      "execution_count": null,
      "outputs": [
        {
          "output_type": "stream",
          "name": "stdout",
          "text": [
            "==========================YOUR DETAILS==========================\n",
            "\n"
          ]
        }
      ]
    }
  ]
}